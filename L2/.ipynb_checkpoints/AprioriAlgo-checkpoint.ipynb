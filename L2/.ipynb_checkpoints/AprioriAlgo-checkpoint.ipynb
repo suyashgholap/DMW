{
 "cells": [
  {
   "cell_type": "code",
   "execution_count": 1,
   "id": "014c6c29",
   "metadata": {},
   "outputs": [],
   "source": [
    "import pandas as pd\n",
    "import numpy as np\n",
    "import math"
   ]
  },
  {
   "cell_type": "code",
   "execution_count": 2,
   "id": "f6d9e2c0",
   "metadata": {},
   "outputs": [],
   "source": [
    "data = pd.read_csv('GroceryStore.csv')"
   ]
  },
  {
   "cell_type": "code",
   "execution_count": 3,
   "id": "5e2fd79f",
   "metadata": {},
   "outputs": [
    {
     "data": {
      "text/plain": [
       "(20, 1)"
      ]
     },
     "execution_count": 3,
     "metadata": {},
     "output_type": "execute_result"
    }
   ],
   "source": [
    "data.shape"
   ]
  },
  {
   "cell_type": "code",
   "execution_count": 4,
   "id": "cec0698d",
   "metadata": {},
   "outputs": [
    {
     "data": {
      "text/html": [
       "<div>\n",
       "<style scoped>\n",
       "    .dataframe tbody tr th:only-of-type {\n",
       "        vertical-align: middle;\n",
       "    }\n",
       "\n",
       "    .dataframe tbody tr th {\n",
       "        vertical-align: top;\n",
       "    }\n",
       "\n",
       "    .dataframe thead th {\n",
       "        text-align: right;\n",
       "    }\n",
       "</style>\n",
       "<table border=\"1\" class=\"dataframe\">\n",
       "  <thead>\n",
       "    <tr style=\"text-align: right;\">\n",
       "      <th></th>\n",
       "      <th>Item</th>\n",
       "    </tr>\n",
       "  </thead>\n",
       "  <tbody>\n",
       "    <tr>\n",
       "      <th>0</th>\n",
       "      <td>MILK,BREAD,BISCUIT</td>\n",
       "    </tr>\n",
       "    <tr>\n",
       "      <th>1</th>\n",
       "      <td>BREAD,MILK,BISCUIT,CORNFLAKES</td>\n",
       "    </tr>\n",
       "    <tr>\n",
       "      <th>2</th>\n",
       "      <td>BREAD,TEA,BOURNVITA</td>\n",
       "    </tr>\n",
       "    <tr>\n",
       "      <th>3</th>\n",
       "      <td>JAM,MAGGI,BREAD,MILK</td>\n",
       "    </tr>\n",
       "    <tr>\n",
       "      <th>4</th>\n",
       "      <td>MAGGI,TEA,BISCUIT</td>\n",
       "    </tr>\n",
       "    <tr>\n",
       "      <th>5</th>\n",
       "      <td>BREAD,TEA,BOURNVITA</td>\n",
       "    </tr>\n",
       "    <tr>\n",
       "      <th>6</th>\n",
       "      <td>MAGGI,TEA,CORNFLAKES</td>\n",
       "    </tr>\n",
       "    <tr>\n",
       "      <th>7</th>\n",
       "      <td>MAGGI,BREAD,TEA,BISCUIT</td>\n",
       "    </tr>\n",
       "    <tr>\n",
       "      <th>8</th>\n",
       "      <td>JAM,MAGGI,BREAD,TEA</td>\n",
       "    </tr>\n",
       "    <tr>\n",
       "      <th>9</th>\n",
       "      <td>BREAD,MILK</td>\n",
       "    </tr>\n",
       "    <tr>\n",
       "      <th>10</th>\n",
       "      <td>COFFEE,COCK,BISCUIT,CORNFLAKES</td>\n",
       "    </tr>\n",
       "    <tr>\n",
       "      <th>11</th>\n",
       "      <td>COFFEE,COCK,BISCUIT,CORNFLAKES</td>\n",
       "    </tr>\n",
       "    <tr>\n",
       "      <th>12</th>\n",
       "      <td>COFFEE,SUGER,BOURNVITA</td>\n",
       "    </tr>\n",
       "    <tr>\n",
       "      <th>13</th>\n",
       "      <td>BREAD,COFFEE,COCK</td>\n",
       "    </tr>\n",
       "    <tr>\n",
       "      <th>14</th>\n",
       "      <td>BREAD,SUGER,BISCUIT</td>\n",
       "    </tr>\n",
       "    <tr>\n",
       "      <th>15</th>\n",
       "      <td>COFFEE,SUGER,CORNFLAKES</td>\n",
       "    </tr>\n",
       "    <tr>\n",
       "      <th>16</th>\n",
       "      <td>BREAD,SUGER,BOURNVITA</td>\n",
       "    </tr>\n",
       "    <tr>\n",
       "      <th>17</th>\n",
       "      <td>BREAD,COFFEE,SUGER</td>\n",
       "    </tr>\n",
       "    <tr>\n",
       "      <th>18</th>\n",
       "      <td>BREAD,COFFEE,SUGER</td>\n",
       "    </tr>\n",
       "    <tr>\n",
       "      <th>19</th>\n",
       "      <td>TEA,MILK,COFFEE,CORNFLAKES</td>\n",
       "    </tr>\n",
       "  </tbody>\n",
       "</table>\n",
       "</div>"
      ],
      "text/plain": [
       "                              Item\n",
       "0               MILK,BREAD,BISCUIT\n",
       "1    BREAD,MILK,BISCUIT,CORNFLAKES\n",
       "2              BREAD,TEA,BOURNVITA\n",
       "3             JAM,MAGGI,BREAD,MILK\n",
       "4                MAGGI,TEA,BISCUIT\n",
       "5              BREAD,TEA,BOURNVITA\n",
       "6             MAGGI,TEA,CORNFLAKES\n",
       "7          MAGGI,BREAD,TEA,BISCUIT\n",
       "8              JAM,MAGGI,BREAD,TEA\n",
       "9                       BREAD,MILK\n",
       "10  COFFEE,COCK,BISCUIT,CORNFLAKES\n",
       "11  COFFEE,COCK,BISCUIT,CORNFLAKES\n",
       "12          COFFEE,SUGER,BOURNVITA\n",
       "13               BREAD,COFFEE,COCK\n",
       "14             BREAD,SUGER,BISCUIT\n",
       "15         COFFEE,SUGER,CORNFLAKES\n",
       "16           BREAD,SUGER,BOURNVITA\n",
       "17              BREAD,COFFEE,SUGER\n",
       "18              BREAD,COFFEE,SUGER\n",
       "19      TEA,MILK,COFFEE,CORNFLAKES"
      ]
     },
     "execution_count": 4,
     "metadata": {},
     "output_type": "execute_result"
    }
   ],
   "source": [
    "data"
   ]
  },
  {
   "cell_type": "code",
   "execution_count": 5,
   "id": "b6335424",
   "metadata": {},
   "outputs": [],
   "source": [
    "data.index.rename('TID', inplace=True)"
   ]
  },
  {
   "cell_type": "code",
   "execution_count": 6,
   "id": "71768dad",
   "metadata": {},
   "outputs": [
    {
     "data": {
      "text/plain": [
       "TID\n",
       "0                  [MILK, BREAD, BISCUIT]\n",
       "1      [BREAD, MILK, BISCUIT, CORNFLAKES]\n",
       "2                 [BREAD, TEA, BOURNVITA]\n",
       "3               [JAM, MAGGI, BREAD, MILK]\n",
       "4                   [MAGGI, TEA, BISCUIT]\n",
       "5                 [BREAD, TEA, BOURNVITA]\n",
       "6                [MAGGI, TEA, CORNFLAKES]\n",
       "7            [MAGGI, BREAD, TEA, BISCUIT]\n",
       "8                [JAM, MAGGI, BREAD, TEA]\n",
       "9                           [BREAD, MILK]\n",
       "10    [COFFEE, COCK, BISCUIT, CORNFLAKES]\n",
       "11    [COFFEE, COCK, BISCUIT, CORNFLAKES]\n",
       "12             [COFFEE, SUGER, BOURNVITA]\n",
       "13                  [BREAD, COFFEE, COCK]\n",
       "14                [BREAD, SUGER, BISCUIT]\n",
       "15            [COFFEE, SUGER, CORNFLAKES]\n",
       "16              [BREAD, SUGER, BOURNVITA]\n",
       "17                 [BREAD, COFFEE, SUGER]\n",
       "18                 [BREAD, COFFEE, SUGER]\n",
       "19        [TEA, MILK, COFFEE, CORNFLAKES]\n",
       "Name: Item, dtype: object"
      ]
     },
     "execution_count": 6,
     "metadata": {},
     "output_type": "execute_result"
    }
   ],
   "source": [
    "trans_df = data.Item.str.split(\",\")\n",
    "trans_df"
   ]
  },
  {
   "cell_type": "code",
   "execution_count": 7,
   "id": "ec23e3be",
   "metadata": {},
   "outputs": [],
   "source": [
    "def prune(data,supp):\n",
    "    \n",
    "    df = data[data.supp_count >= supp] \n",
    "    return df"
   ]
  },
  {
   "cell_type": "code",
   "execution_count": 8,
   "id": "f3907c7f",
   "metadata": {},
   "outputs": [],
   "source": [
    "def count_itemset(transaction_df, itemsets):\n",
    "    count_item = {}\n",
    "    for item_set in itemsets:\n",
    "        set_A = set(item_set)\n",
    "        for row in trans_df:\n",
    "            set_B = set(row)\n",
    "            if set_B.intersection(set_A) == set_A: \n",
    "                if item_set in count_item.keys():\n",
    "                    count_item[item_set] += 1   \n",
    "                else:\n",
    "                    count_item[item_set] = 1   \n",
    "    data = pd.DataFrame()\n",
    "    data['item_sets'] = count_item.keys()\n",
    "    data['supp_count'] = count_item.values()\n",
    "    return data"
   ]
  },
  {
   "cell_type": "code",
   "execution_count": 9,
   "id": "721ea736",
   "metadata": {},
   "outputs": [],
   "source": [
    "def count_item(trans_items): \n",
    "    count_ind_item = {}\n",
    "    for row in trans_items:\n",
    "        for i in range(len(row)):\n",
    "            if row[i] in count_ind_item.keys():\n",
    "                count_ind_item[row[i]] += 1\n",
    "            else:\n",
    "                count_ind_item[row[i]] = 1\n",
    "                data = pd.DataFrame()\n",
    "    data['item_sets'] = count_ind_item.keys()\n",
    "    data['supp_count'] = count_ind_item.values()\n",
    "    data = data.sort_values('item_sets')\n",
    "    return data"
   ]
  },
  {
   "cell_type": "code",
   "execution_count": 10,
   "id": "a98ddfe1",
   "metadata": {},
   "outputs": [],
   "source": [
    "def join(list_of_items):\n",
    "    itemsets = []\n",
    "    i = 1\n",
    "    for entry in list_of_items:\n",
    "        proceding_items = list_of_items[i:]\n",
    "        for item in proceding_items:\n",
    "            if(type(item) is str):\n",
    "                if entry != item:\n",
    "                    tuples = (entry, item)\n",
    "                    itemsets.append(tuples)\n",
    "            else:\n",
    "                if entry[0:-1] == item[0:-1]:\n",
    "                    tuples = entry+item[1:]\n",
    "                    itemsets.append(tuples)\n",
    "        i = i+1\n",
    "    if(len(itemsets) == 0):\n",
    "        return None\n",
    "    return itemsets"
   ]
  },
  {
   "cell_type": "code",
   "execution_count": 11,
   "id": "8e64725e",
   "metadata": {},
   "outputs": [],
   "source": [
    "def apriori(trans_data,supp=3, con=0.5):\n",
    "    freq = pd.DataFrame()\n",
    "    df = count_item(trans_data)\n",
    "    while(len(df) != 0):\n",
    "        df = prune(df, supp)\n",
    "        if len(df) > 1 or (len(df) == 1 and int(df.supp_count >= supp)):\n",
    "            freq = df\n",
    "        itemsets = join(df.item_sets)\n",
    "        if(itemsets is None):\n",
    "            return freq\n",
    "        df = count_itemset(trans_data, itemsets)\n",
    "    return df"
   ]
  },
  {
   "cell_type": "code",
   "execution_count": 12,
   "id": "e6553214",
   "metadata": {},
   "outputs": [],
   "source": [
    "freq_item_sets = apriori(trans_df,4)"
   ]
  },
  {
   "cell_type": "code",
   "execution_count": 13,
   "id": "94db80fa",
   "metadata": {},
   "outputs": [],
   "source": [
    "def calculate_conf(value1, value2):\n",
    "    return round(int(value1)/int(value2) * 100, 2)"
   ]
  },
  {
   "cell_type": "code",
   "execution_count": 14,
   "id": "6493af18",
   "metadata": {},
   "outputs": [],
   "source": [
    "def strong_rules(freq_item_sets, threshold):\n",
    "\n",
    "    confidences = {}\n",
    "    for row in freq_item_sets.item_sets:\n",
    "        for i in range(len(row)):\n",
    "            for j in range(len(row)):\n",
    "                 if i != j:\n",
    "                    tuples = (row[i], row[j])\n",
    "                    conf = calculate_conf(freq_item_sets[freq_item_sets.item_sets == row].supp_count, count_item(trans_df)[count_item(trans_df).item_sets == row[i]].supp_count)\n",
    "                    confidences[tuples] = conf\n",
    "                    conf_df = pd.DataFrame()\n",
    "    conf_df['item_set'] = confidences.keys()\n",
    "    conf_df['confidence'] = confidences.values()\n",
    "\n",
    "    return conf_df[conf_df.confidence >= threshold]"
   ]
  },
  {
   "cell_type": "code",
   "execution_count": 15,
   "id": "51785b1d",
   "metadata": {},
   "outputs": [
    {
     "data": {
      "text/html": [
       "<div>\n",
       "<style scoped>\n",
       "    .dataframe tbody tr th:only-of-type {\n",
       "        vertical-align: middle;\n",
       "    }\n",
       "\n",
       "    .dataframe tbody tr th {\n",
       "        vertical-align: top;\n",
       "    }\n",
       "\n",
       "    .dataframe thead th {\n",
       "        text-align: right;\n",
       "    }\n",
       "</style>\n",
       "<table border=\"1\" class=\"dataframe\">\n",
       "  <thead>\n",
       "    <tr style=\"text-align: right;\">\n",
       "      <th></th>\n",
       "      <th>item_set</th>\n",
       "      <th>confidence</th>\n",
       "    </tr>\n",
       "  </thead>\n",
       "  <tbody>\n",
       "    <tr>\n",
       "      <th>0</th>\n",
       "      <td>(BISCUIT, BREAD)</td>\n",
       "      <td>57.14</td>\n",
       "    </tr>\n",
       "    <tr>\n",
       "      <th>3</th>\n",
       "      <td>(MILK, BREAD)</td>\n",
       "      <td>80.00</td>\n",
       "    </tr>\n",
       "    <tr>\n",
       "      <th>5</th>\n",
       "      <td>(SUGER, BREAD)</td>\n",
       "      <td>66.67</td>\n",
       "    </tr>\n",
       "    <tr>\n",
       "      <th>7</th>\n",
       "      <td>(TEA, BREAD)</td>\n",
       "      <td>57.14</td>\n",
       "    </tr>\n",
       "    <tr>\n",
       "      <th>8</th>\n",
       "      <td>(COFFEE, CORNFLAKES)</td>\n",
       "      <td>50.00</td>\n",
       "    </tr>\n",
       "    <tr>\n",
       "      <th>9</th>\n",
       "      <td>(CORNFLAKES, COFFEE)</td>\n",
       "      <td>66.67</td>\n",
       "    </tr>\n",
       "    <tr>\n",
       "      <th>10</th>\n",
       "      <td>(COFFEE, SUGER)</td>\n",
       "      <td>50.00</td>\n",
       "    </tr>\n",
       "    <tr>\n",
       "      <th>11</th>\n",
       "      <td>(SUGER, COFFEE)</td>\n",
       "      <td>66.67</td>\n",
       "    </tr>\n",
       "    <tr>\n",
       "      <th>12</th>\n",
       "      <td>(MAGGI, TEA)</td>\n",
       "      <td>80.00</td>\n",
       "    </tr>\n",
       "    <tr>\n",
       "      <th>13</th>\n",
       "      <td>(TEA, MAGGI)</td>\n",
       "      <td>57.14</td>\n",
       "    </tr>\n",
       "  </tbody>\n",
       "</table>\n",
       "</div>"
      ],
      "text/plain": [
       "                item_set  confidence\n",
       "0       (BISCUIT, BREAD)       57.14\n",
       "3          (MILK, BREAD)       80.00\n",
       "5         (SUGER, BREAD)       66.67\n",
       "7           (TEA, BREAD)       57.14\n",
       "8   (COFFEE, CORNFLAKES)       50.00\n",
       "9   (CORNFLAKES, COFFEE)       66.67\n",
       "10       (COFFEE, SUGER)       50.00\n",
       "11       (SUGER, COFFEE)       66.67\n",
       "12          (MAGGI, TEA)       80.00\n",
       "13          (TEA, MAGGI)       57.14"
      ]
     },
     "execution_count": 15,
     "metadata": {},
     "output_type": "execute_result"
    }
   ],
   "source": [
    "strong_rules(freq_item_sets, 50.0)"
   ]
  },
  {
   "cell_type": "code",
   "execution_count": 16,
   "id": "c4a70072",
   "metadata": {},
   "outputs": [],
   "source": [
    "from functools import reduce\n",
    "import operator"
   ]
  },
  {
   "cell_type": "code",
   "execution_count": 17,
   "id": "bc81ff89",
   "metadata": {},
   "outputs": [],
   "source": [
    "def interesting_rules(freq_item_sets):\n",
    "    lifts = {}\n",
    "    prob_of_items = []\n",
    "    for row in freq_item_sets.item_sets:\n",
    "        num_of_items = len(row)\n",
    "        prob_all = freq_item_sets[freq_item_sets.item_sets == row].supp_count / 18\n",
    "        for i in range(num_of_items):\n",
    "            prob_of_items.append(count_item(trans_df)[count_item(trans_df).item_sets == row[i]].supp_count / 18)"
   ]
  },
  {
   "cell_type": "code",
   "execution_count": 18,
   "id": "cd72aaa1",
   "metadata": {},
   "outputs": [],
   "source": [
    "def strong_rules(freq_item_sets, threshold):\n",
    "    confidences = {}\n",
    "    for row in freq_item_sets.item_sets:\n",
    "        for i in range(len(row)):\n",
    "            for j in range(len(row)):\n",
    "                 if i != j:\n",
    "                    tuples = (row[i], row[j])\n",
    "                    conf = calculate_conf(freq_item_sets[freq_item_sets.item_sets == row].supp_count, count_item(trans_df)[count_item(trans_df).item_sets == row[i]].supp_count)\n",
    "                    confidences[tuples] = conf\n",
    "    conf_df = pd.DataFrame()\n",
    "    conf_df['item_set'] = confidences.keys()\n",
    "    conf_df['confidence'] = confidences.values()\n",
    "    return conf_df[conf_df.confidence >= threshold]"
   ]
  },
  {
   "cell_type": "code",
   "execution_count": 19,
   "id": "9efc9220",
   "metadata": {},
   "outputs": [
    {
     "data": {
      "text/html": [
       "<div>\n",
       "<style scoped>\n",
       "    .dataframe tbody tr th:only-of-type {\n",
       "        vertical-align: middle;\n",
       "    }\n",
       "\n",
       "    .dataframe tbody tr th {\n",
       "        vertical-align: top;\n",
       "    }\n",
       "\n",
       "    .dataframe thead th {\n",
       "        text-align: right;\n",
       "    }\n",
       "</style>\n",
       "<table border=\"1\" class=\"dataframe\">\n",
       "  <thead>\n",
       "    <tr style=\"text-align: right;\">\n",
       "      <th></th>\n",
       "      <th>item_set</th>\n",
       "      <th>confidence</th>\n",
       "    </tr>\n",
       "  </thead>\n",
       "  <tbody>\n",
       "    <tr>\n",
       "      <th>0</th>\n",
       "      <td>(BISCUIT, BREAD)</td>\n",
       "      <td>57.14</td>\n",
       "    </tr>\n",
       "    <tr>\n",
       "      <th>3</th>\n",
       "      <td>(MILK, BREAD)</td>\n",
       "      <td>80.00</td>\n",
       "    </tr>\n",
       "    <tr>\n",
       "      <th>5</th>\n",
       "      <td>(SUGER, BREAD)</td>\n",
       "      <td>66.67</td>\n",
       "    </tr>\n",
       "    <tr>\n",
       "      <th>7</th>\n",
       "      <td>(TEA, BREAD)</td>\n",
       "      <td>57.14</td>\n",
       "    </tr>\n",
       "    <tr>\n",
       "      <th>8</th>\n",
       "      <td>(COFFEE, CORNFLAKES)</td>\n",
       "      <td>50.00</td>\n",
       "    </tr>\n",
       "    <tr>\n",
       "      <th>9</th>\n",
       "      <td>(CORNFLAKES, COFFEE)</td>\n",
       "      <td>66.67</td>\n",
       "    </tr>\n",
       "    <tr>\n",
       "      <th>10</th>\n",
       "      <td>(COFFEE, SUGER)</td>\n",
       "      <td>50.00</td>\n",
       "    </tr>\n",
       "    <tr>\n",
       "      <th>11</th>\n",
       "      <td>(SUGER, COFFEE)</td>\n",
       "      <td>66.67</td>\n",
       "    </tr>\n",
       "    <tr>\n",
       "      <th>12</th>\n",
       "      <td>(MAGGI, TEA)</td>\n",
       "      <td>80.00</td>\n",
       "    </tr>\n",
       "    <tr>\n",
       "      <th>13</th>\n",
       "      <td>(TEA, MAGGI)</td>\n",
       "      <td>57.14</td>\n",
       "    </tr>\n",
       "  </tbody>\n",
       "</table>\n",
       "</div>"
      ],
      "text/plain": [
       "                item_set  confidence\n",
       "0       (BISCUIT, BREAD)       57.14\n",
       "3          (MILK, BREAD)       80.00\n",
       "5         (SUGER, BREAD)       66.67\n",
       "7           (TEA, BREAD)       57.14\n",
       "8   (COFFEE, CORNFLAKES)       50.00\n",
       "9   (CORNFLAKES, COFFEE)       66.67\n",
       "10       (COFFEE, SUGER)       50.00\n",
       "11       (SUGER, COFFEE)       66.67\n",
       "12          (MAGGI, TEA)       80.00\n",
       "13          (TEA, MAGGI)       57.14"
      ]
     },
     "execution_count": 19,
     "metadata": {},
     "output_type": "execute_result"
    }
   ],
   "source": [
    "strong_rules(freq_item_sets, 50.0)"
   ]
  },
  {
   "cell_type": "code",
   "execution_count": 20,
   "id": "3f7010d8",
   "metadata": {},
   "outputs": [
    {
     "data": {
      "text/plain": [
       "TID\n",
       "0                  [MILK, BREAD, BISCUIT]\n",
       "1      [BREAD, MILK, BISCUIT, CORNFLAKES]\n",
       "2                 [BREAD, TEA, BOURNVITA]\n",
       "3               [JAM, MAGGI, BREAD, MILK]\n",
       "4                   [MAGGI, TEA, BISCUIT]\n",
       "5                 [BREAD, TEA, BOURNVITA]\n",
       "6                [MAGGI, TEA, CORNFLAKES]\n",
       "7            [MAGGI, BREAD, TEA, BISCUIT]\n",
       "8                [JAM, MAGGI, BREAD, TEA]\n",
       "9                           [BREAD, MILK]\n",
       "10    [COFFEE, COCK, BISCUIT, CORNFLAKES]\n",
       "11    [COFFEE, COCK, BISCUIT, CORNFLAKES]\n",
       "12             [COFFEE, SUGER, BOURNVITA]\n",
       "13                  [BREAD, COFFEE, COCK]\n",
       "14                [BREAD, SUGER, BISCUIT]\n",
       "15            [COFFEE, SUGER, CORNFLAKES]\n",
       "16              [BREAD, SUGER, BOURNVITA]\n",
       "17                 [BREAD, COFFEE, SUGER]\n",
       "18                 [BREAD, COFFEE, SUGER]\n",
       "19        [TEA, MILK, COFFEE, CORNFLAKES]\n",
       "Name: Item, dtype: object"
      ]
     },
     "execution_count": 20,
     "metadata": {},
     "output_type": "execute_result"
    }
   ],
   "source": [
    "trans_df"
   ]
  },
  {
   "cell_type": "code",
   "execution_count": 21,
   "id": "93a45cf5",
   "metadata": {},
   "outputs": [],
   "source": [
    "lst = []\n",
    "for i in trans_df:\n",
    "    lst.extend(i)"
   ]
  },
  {
   "cell_type": "code",
   "execution_count": 22,
   "id": "98fccc18",
   "metadata": {},
   "outputs": [
    {
     "data": {
      "text/plain": [
       "66"
      ]
     },
     "execution_count": 22,
     "metadata": {},
     "output_type": "execute_result"
    }
   ],
   "source": [
    "n = len(lst)\n",
    "n"
   ]
  },
  {
   "cell_type": "code",
   "execution_count": 23,
   "id": "f82b09b3",
   "metadata": {},
   "outputs": [],
   "source": [
    "mp = {}\n",
    "def countfreq(arr):\n",
    "    for i in arr:\n",
    "        if i in mp.keys():\n",
    "            mp[i] = mp[i] + 1\n",
    "        else:\n",
    "            mp[i] = 1\n",
    "countfreq(lst)"
   ]
  },
  {
   "cell_type": "code",
   "execution_count": 34,
   "id": "d2a3388a",
   "metadata": {},
   "outputs": [
    {
     "name": "stdout",
     "output_type": "stream",
     "text": [
      "MILK  =  5\n",
      "BREAD  =  13\n",
      "BISCUIT  =  7\n",
      "CORNFLAKES  =  6\n",
      "TEA  =  7\n",
      "BOURNVITA  =  4\n",
      "JAM  =  2\n",
      "MAGGI  =  5\n",
      "COFFEE  =  8\n",
      "COCK  =  3\n",
      "SUGER  =  6\n"
     ]
    }
   ],
   "source": [
    "n = len(mp)\n",
    "for i in mp:\n",
    "    print(i,\" = \",mp[i])"
   ]
  },
  {
   "cell_type": "code",
   "execution_count": null,
   "id": "027e8fed",
   "metadata": {},
   "outputs": [],
   "source": []
  }
 ],
 "metadata": {
  "kernelspec": {
   "display_name": "Python 3 (ipykernel)",
   "language": "python",
   "name": "python3"
  },
  "language_info": {
   "codemirror_mode": {
    "name": "ipython",
    "version": 3
   },
   "file_extension": ".py",
   "mimetype": "text/x-python",
   "name": "python",
   "nbconvert_exporter": "python",
   "pygments_lexer": "ipython3",
   "version": "3.10.6"
  }
 },
 "nbformat": 4,
 "nbformat_minor": 5
}
